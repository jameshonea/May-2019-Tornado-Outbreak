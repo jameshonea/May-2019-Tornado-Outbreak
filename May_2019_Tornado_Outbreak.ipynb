{
 "cells": [
  {
   "cell_type": "markdown",
   "metadata": {},
   "source": [
    "In May of 2019, a long-lived and widespread outbreak of tornados occured, leaving 8 people dead. While most tornado outbreaks occur over the course of perhaps 2-3 days, this outbreak was noted for its longevity. Significant tornadic activity was observed every day for a span of nearly two weeks, from May 17 to May 27. Understanding the character of this tornado outbreak is important in helping us understand severe weather more generally, and that is what we will do here.\n",
    "\n",
    "First we catalogue the number of tornados that touched down in each state where significant tornado activity occured. We will also examine how the EF-rating corresponds to both the length of the path the tornado took and the maximum width of the tornado. Maximum width and EF-rating correlation is of particular interest as width shortly upon touchdown may be of use in predicting the eventual strength of a tornado to some degree of probability.\n",
    "\n",
    "Let us import the data."
   ]
  },
  {
   "cell_type": "code",
   "execution_count": 225,
   "metadata": {},
   "outputs": [],
   "source": [
    "import pandas as pd\n",
    "import matplotlib.pyplot as plt\n",
    "plt.rcParams['figure.figsize'] = (10,6)\n",
    "import numpy as np\n",
    "import re\n",
    "from sklearn.linear_model import LinearRegression"
   ]
  },
  {
   "cell_type": "code",
   "execution_count": 226,
   "metadata": {},
   "outputs": [
    {
     "data": {
      "text/html": [
       "<div>\n",
       "<style scoped>\n",
       "    .dataframe tbody tr th:only-of-type {\n",
       "        vertical-align: middle;\n",
       "    }\n",
       "\n",
       "    .dataframe tbody tr th {\n",
       "        vertical-align: top;\n",
       "    }\n",
       "\n",
       "    .dataframe thead th {\n",
       "        text-align: right;\n",
       "    }\n",
       "</style>\n",
       "<table border=\"1\" class=\"dataframe\">\n",
       "  <thead>\n",
       "    <tr style=\"text-align: right;\">\n",
       "      <th></th>\n",
       "      <th>EF#</th>\n",
       "      <th>Location</th>\n",
       "      <th>County / Parish</th>\n",
       "      <th>State</th>\n",
       "      <th>Start Coord.</th>\n",
       "      <th>Time (UTC)</th>\n",
       "      <th>Path length</th>\n",
       "      <th>Max width</th>\n",
       "      <th>Summary</th>\n",
       "      <th>Refs</th>\n",
       "    </tr>\n",
       "  </thead>\n",
       "  <tbody>\n",
       "    <tr>\n",
       "      <th>0</th>\n",
       "      <td>EF0</td>\n",
       "      <td>E of Fort Stockton</td>\n",
       "      <td>Pecos</td>\n",
       "      <td>TX</td>\n",
       "      <td>30°49′44″N 102°33′32″W﻿ / ﻿30.829°N 102.559°W</td>\n",
       "      <td>21:43–21:55</td>\n",
       "      <td>2 mi (3.2 km)</td>\n",
       "      <td>NaN</td>\n",
       "      <td>Spotters and emergency management observed a t...</td>\n",
       "      <td>[1]</td>\n",
       "    </tr>\n",
       "    <tr>\n",
       "      <th>1</th>\n",
       "      <td>EF2</td>\n",
       "      <td>ESE of Culbertson to NW of McCook</td>\n",
       "      <td>Red Willow</td>\n",
       "      <td>NE</td>\n",
       "      <td>40°12′12″N 100°45′37″W﻿ / ﻿40.2034°N 100.7604°W</td>\n",
       "      <td>22:55–23:01</td>\n",
       "      <td>6 mi (9.7 km)</td>\n",
       "      <td>350 yd (320 m)</td>\n",
       "      <td>This strong tornado destroyed 6 grain bins, 5 ...</td>\n",
       "      <td>[2]</td>\n",
       "    </tr>\n",
       "    <tr>\n",
       "      <th>2</th>\n",
       "      <td>EF0</td>\n",
       "      <td>SW of Stockville</td>\n",
       "      <td>Frontier</td>\n",
       "      <td>NE</td>\n",
       "      <td>NaN</td>\n",
       "      <td>23:32–23:33</td>\n",
       "      <td>0.1 mi (0.16 km)</td>\n",
       "      <td>20 yd (18 m)</td>\n",
       "      <td>A tornado briefly touched down. No damage occu...</td>\n",
       "      <td>[3]</td>\n",
       "    </tr>\n",
       "    <tr>\n",
       "      <th>3</th>\n",
       "      <td>EF0</td>\n",
       "      <td>Northwestern Stockville</td>\n",
       "      <td>Frontier</td>\n",
       "      <td>NE</td>\n",
       "      <td>NaN</td>\n",
       "      <td>23:45–23:46</td>\n",
       "      <td>0.1 mi (0.16 km)</td>\n",
       "      <td>50 yd (46 m)</td>\n",
       "      <td>A tornado briefly touched down in a field at t...</td>\n",
       "      <td>[3]</td>\n",
       "    </tr>\n",
       "    <tr>\n",
       "      <th>4</th>\n",
       "      <td>EF0</td>\n",
       "      <td>NE of Stockville</td>\n",
       "      <td>Frontier</td>\n",
       "      <td>NE</td>\n",
       "      <td>40°34′N 100°20′W﻿ / ﻿40.56°N 100.34°W</td>\n",
       "      <td>23:55–23:56</td>\n",
       "      <td>0.5 mi (0.80 km)</td>\n",
       "      <td>315 yd (288 m)</td>\n",
       "      <td>Several 1,400 lb (640 kg) hay bales were moved...</td>\n",
       "      <td>[3]</td>\n",
       "    </tr>\n",
       "  </tbody>\n",
       "</table>\n",
       "</div>"
      ],
      "text/plain": [
       "   EF#                           Location County / Parish State  \\\n",
       "0  EF0                 E of Fort Stockton           Pecos    TX   \n",
       "1  EF2  ESE of Culbertson to NW of McCook      Red Willow    NE   \n",
       "2  EF0                   SW of Stockville        Frontier    NE   \n",
       "3  EF0            Northwestern Stockville        Frontier    NE   \n",
       "4  EF0                   NE of Stockville        Frontier    NE   \n",
       "\n",
       "                                      Start Coord.   Time (UTC)  \\\n",
       "0    30°49′44″N 102°33′32″W﻿ / ﻿30.829°N 102.559°W  21:43–21:55   \n",
       "1  40°12′12″N 100°45′37″W﻿ / ﻿40.2034°N 100.7604°W  22:55–23:01   \n",
       "2                                              NaN  23:32–23:33   \n",
       "3                                              NaN  23:45–23:46   \n",
       "4            40°34′N 100°20′W﻿ / ﻿40.56°N 100.34°W  23:55–23:56   \n",
       "\n",
       "        Path length       Max width  \\\n",
       "0     2 mi (3.2 km)             NaN   \n",
       "1     6 mi (9.7 km)  350 yd (320 m)   \n",
       "2  0.1 mi (0.16 km)    20 yd (18 m)   \n",
       "3  0.1 mi (0.16 km)    50 yd (46 m)   \n",
       "4  0.5 mi (0.80 km)  315 yd (288 m)   \n",
       "\n",
       "                                             Summary Refs  \n",
       "0  Spotters and emergency management observed a t...  [1]  \n",
       "1  This strong tornado destroyed 6 grain bins, 5 ...  [2]  \n",
       "2  A tornado briefly touched down. No damage occu...  [3]  \n",
       "3  A tornado briefly touched down in a field at t...  [3]  \n",
       "4  Several 1,400 lb (640 kg) hay bales were moved...  [3]  "
      ]
     },
     "execution_count": 226,
     "metadata": {},
     "output_type": "execute_result"
    }
   ],
   "source": [
    "tornado_data = pd.read_csv('may2019outbreak.csv')\n",
    "tornado_data.head()"
   ]
  },
  {
   "cell_type": "markdown",
   "metadata": {},
   "source": [
    "As can be seen, this dataset has 10 columns:\n",
    "\n",
    "EF#: The strength of the tornado, measured on the Enhance-Fujita scale.\n",
    "\n",
    "Location\n",
    "County / Parish\n",
    "\n",
    "State\n",
    "\n",
    "Start Coord: The latitude and longitude of the location the tornado touched down\n",
    "\n",
    "Time: The exact time the tornado was on the ground\n",
    "\n",
    "Path length\n",
    "\n",
    "Max width\n",
    "\n",
    "Summary: A brief summary of observation and damage assessment\n",
    "\n",
    "Ref: Citation number for wikipedia"
   ]
  },
  {
   "cell_type": "code",
   "execution_count": 227,
   "metadata": {},
   "outputs": [
    {
     "data": {
      "text/html": [
       "<div>\n",
       "<style scoped>\n",
       "    .dataframe tbody tr th:only-of-type {\n",
       "        vertical-align: middle;\n",
       "    }\n",
       "\n",
       "    .dataframe tbody tr th {\n",
       "        vertical-align: top;\n",
       "    }\n",
       "\n",
       "    .dataframe thead th {\n",
       "        text-align: right;\n",
       "    }\n",
       "</style>\n",
       "<table border=\"1\" class=\"dataframe\">\n",
       "  <thead>\n",
       "    <tr style=\"text-align: right;\">\n",
       "      <th></th>\n",
       "      <th>EF#</th>\n",
       "      <th>State</th>\n",
       "      <th>Path length</th>\n",
       "      <th>Max width</th>\n",
       "    </tr>\n",
       "  </thead>\n",
       "  <tbody>\n",
       "    <tr>\n",
       "      <th>0</th>\n",
       "      <td>EF0</td>\n",
       "      <td>TX</td>\n",
       "      <td>2 mi (3.2 km)</td>\n",
       "      <td>NaN</td>\n",
       "    </tr>\n",
       "    <tr>\n",
       "      <th>1</th>\n",
       "      <td>EF2</td>\n",
       "      <td>NE</td>\n",
       "      <td>6 mi (9.7 km)</td>\n",
       "      <td>350 yd (320 m)</td>\n",
       "    </tr>\n",
       "    <tr>\n",
       "      <th>2</th>\n",
       "      <td>EF0</td>\n",
       "      <td>NE</td>\n",
       "      <td>0.1 mi (0.16 km)</td>\n",
       "      <td>20 yd (18 m)</td>\n",
       "    </tr>\n",
       "    <tr>\n",
       "      <th>3</th>\n",
       "      <td>EF0</td>\n",
       "      <td>NE</td>\n",
       "      <td>0.1 mi (0.16 km)</td>\n",
       "      <td>50 yd (46 m)</td>\n",
       "    </tr>\n",
       "    <tr>\n",
       "      <th>4</th>\n",
       "      <td>EF0</td>\n",
       "      <td>NE</td>\n",
       "      <td>0.5 mi (0.80 km)</td>\n",
       "      <td>315 yd (288 m)</td>\n",
       "    </tr>\n",
       "  </tbody>\n",
       "</table>\n",
       "</div>"
      ],
      "text/plain": [
       "   EF# State       Path length       Max width\n",
       "0  EF0    TX     2 mi (3.2 km)             NaN\n",
       "1  EF2    NE     6 mi (9.7 km)  350 yd (320 m)\n",
       "2  EF0    NE  0.1 mi (0.16 km)    20 yd (18 m)\n",
       "3  EF0    NE  0.1 mi (0.16 km)    50 yd (46 m)\n",
       "4  EF0    NE  0.5 mi (0.80 km)  315 yd (288 m)"
      ]
     },
     "execution_count": 227,
     "metadata": {},
     "output_type": "execute_result"
    }
   ],
   "source": [
    "# Here I'll start with a breakdown of tornados first grouped by state then by EF rating. Then I can think of two useful questions:\n",
    "# if width is correlated to path length and if EF is correlated to path length / width\n",
    "\n",
    "cols = ['EF#', 'State', 'Path length', 'Max width']\n",
    "\n",
    "tornado_data = tornado_data[cols]\n",
    "tornado_data.head()"
   ]
  },
  {
   "cell_type": "markdown",
   "metadata": {},
   "source": [
    "Two columns are not yet in a useful state for analysis: Path length and Max width. We can use the regular expressions (re) library to cut the data down to just SI units. We will also takes this time to remove any rows with incomplete information, for example where the EF rating is unknown. These are quite commonly EF0-1 tornados that strike open fields and cause no damage to survey.\n",
    "\n",
    "For tornados that crossed state lines, we will only count them for the state where they touched down."
   ]
  },
  {
   "cell_type": "code",
   "execution_count": 228,
   "metadata": {},
   "outputs": [
    {
     "data": {
      "text/plain": [
       "(252, 4)"
      ]
     },
     "execution_count": 228,
     "metadata": {},
     "output_type": "execute_result"
    }
   ],
   "source": [
    "tornado_data['Path length'] = tornado_data['Path length'].str.replace(r'.*\\(','')\n",
    "tornado_data['Path length'] = tornado_data['Path length'].str.replace(r'\\s.*','')\n",
    "\n",
    "tornado_data['Max width'] = tornado_data['Max width'].str.replace(r'.*\\(','')\n",
    "tornado_data['Max width'] = tornado_data['Max width'].str.replace(r'\\s.*','')\n",
    "tornado_data['Max width'] = tornado_data['Max width'].str.replace(',','')\n",
    "\n",
    "tornado_data['State'] = tornado_data['State'].str.replace(r',.*','')\n",
    "\n",
    "tornado_data = tornado_data.dropna() # drop NaN elements\n",
    "\n",
    "tornado_data = tornado_data[tornado_data['EF#'] != 'EFU']\n",
    "\n",
    "tornado_data.shape\n"
   ]
  },
  {
   "cell_type": "code",
   "execution_count": 244,
   "metadata": {},
   "outputs": [
    {
     "data": {
      "text/html": [
       "<div>\n",
       "<style scoped>\n",
       "    .dataframe tbody tr th:only-of-type {\n",
       "        vertical-align: middle;\n",
       "    }\n",
       "\n",
       "    .dataframe tbody tr th {\n",
       "        vertical-align: top;\n",
       "    }\n",
       "\n",
       "    .dataframe thead th {\n",
       "        text-align: right;\n",
       "    }\n",
       "</style>\n",
       "<table border=\"1\" class=\"dataframe\">\n",
       "  <thead>\n",
       "    <tr style=\"text-align: right;\">\n",
       "      <th></th>\n",
       "      <th>Path length</th>\n",
       "      <th>Max width</th>\n",
       "    </tr>\n",
       "    <tr>\n",
       "      <th>EF#</th>\n",
       "      <th></th>\n",
       "      <th></th>\n",
       "    </tr>\n",
       "  </thead>\n",
       "  <tbody>\n",
       "    <tr>\n",
       "      <th>EF0</th>\n",
       "      <td>3.625225</td>\n",
       "      <td>73.701124</td>\n",
       "    </tr>\n",
       "    <tr>\n",
       "      <th>EF1</th>\n",
       "      <td>6.995929</td>\n",
       "      <td>301.664602</td>\n",
       "    </tr>\n",
       "    <tr>\n",
       "      <th>EF2</th>\n",
       "      <td>13.685862</td>\n",
       "      <td>477.206897</td>\n",
       "    </tr>\n",
       "    <tr>\n",
       "      <th>EF3</th>\n",
       "      <td>18.821667</td>\n",
       "      <td>746.833333</td>\n",
       "    </tr>\n",
       "    <tr>\n",
       "      <th>EF4</th>\n",
       "      <td>41.605000</td>\n",
       "      <td>1288.000000</td>\n",
       "    </tr>\n",
       "  </tbody>\n",
       "</table>\n",
       "</div>"
      ],
      "text/plain": [
       "     Path length    Max width\n",
       "EF#                          \n",
       "EF0     3.625225    73.701124\n",
       "EF1     6.995929   301.664602\n",
       "EF2    13.685862   477.206897\n",
       "EF3    18.821667   746.833333\n",
       "EF4    41.605000  1288.000000"
      ]
     },
     "execution_count": 244,
     "metadata": {},
     "output_type": "execute_result"
    }
   ],
   "source": [
    "tornado_data.head()"
   ]
  },
  {
   "cell_type": "markdown",
   "metadata": {},
   "source": [
    "Let's create a grouped bar plot to show the number of tornados that touched down in each state, grouped by EF rating. From the data we can find that there are several states where just a few weak tornados touched down. To simplify this graph a bit, we consider only states where at least 5 EF1s or at least one EF2 touched down. Despite this winnowing, we need to be careful to count where zero of a certain EF rating touched down in a particular state."
   ]
  },
  {
   "cell_type": "code",
   "execution_count": 230,
   "metadata": {},
   "outputs": [],
   "source": [
    "tornado_count = tornado_data.groupby(['State', 'EF#']).size()"
   ]
  },
  {
   "cell_type": "markdown",
   "metadata": {},
   "source": [
    "Now we winnow the data."
   ]
  },
  {
   "cell_type": "code",
   "execution_count": 231,
   "metadata": {},
   "outputs": [
    {
     "data": {
      "text/plain": [
       "State  EF#\n",
       "IA     EF0     6\n",
       "       EF1     5\n",
       "       EF2     1\n",
       "       EF3     1\n",
       "IL     EF0    10\n",
       "       EF1    12\n",
       "IN     EF0     1\n",
       "       EF1     5\n",
       "       EF2     2\n",
       "       EF3     2\n",
       "KS     EF0     4\n",
       "       EF1    12\n",
       "       EF2     5\n",
       "       EF3     2\n",
       "       EF4     1\n",
       "MO     EF0     7\n",
       "       EF1     7\n",
       "       EF2     1\n",
       "       EF3     3\n",
       "NE     EF0     8\n",
       "       EF1     5\n",
       "       EF2     2\n",
       "       EF3     1\n",
       "NM     EF0     5\n",
       "       EF2     1\n",
       "OH     EF0     8\n",
       "       EF1    10\n",
       "       EF2     3\n",
       "       EF3     3\n",
       "       EF4     1\n",
       "OK     EF0     7\n",
       "       EF1    24\n",
       "       EF2     5\n",
       "       EF3     1\n",
       "PA     EF0     7\n",
       "       EF1     8\n",
       "       EF2     1\n",
       "TX     EF0    10\n",
       "       EF1     8\n",
       "       EF2     9\n",
       "       EF3     5\n",
       "dtype: int64"
      ]
     },
     "execution_count": 231,
     "metadata": {},
     "output_type": "execute_result"
    }
   ],
   "source": [
    "states = ['AR','FL','LA','MD','MI','MN','ND','NJ','ID'] # states that don't meet the criteria.\n",
    "\n",
    "\n",
    "tornado_slice = tornado_data\n",
    "\n",
    "for e in states:\n",
    "    tornado_slice = tornado_slice[tornado_slice['State'] != e]\n",
    "    \n",
    "\n",
    "tornado_slice\n",
    "tornado_count = tornado_slice.groupby(['State','EF#']).size()\n",
    "\n",
    "tornado_count\n",
    "\n"
   ]
  },
  {
   "cell_type": "code",
   "execution_count": 232,
   "metadata": {},
   "outputs": [
    {
     "data": {
      "image/png": "[encoded data removed]",
      "text/plain": [
       "<Figure size 720x432 with 1 Axes>"
      ]
     },
     "metadata": {
      "needs_background": "light"
     },
     "output_type": "display_data"
    }
   ],
   "source": [
    "EF0 = []\n",
    "EF1 = []\n",
    "EF2 = []\n",
    "EF3 = []\n",
    "EF4 = []\n",
    "\n",
    "\n",
    "states = ['IA','IL','IN','KS','MO','NE','NM','OH','OK','PA','TX']\n",
    "\n",
    "for e in states:\n",
    "    count = tornado_slice[tornado_slice['State'] == e]\n",
    "    count = count[count['EF#'] == 'EF0'].shape[0]\n",
    "    EF0.append(count)\n",
    "    \n",
    "    count = tornado_slice[tornado_slice['State'] == e]\n",
    "    count = count[count['EF#'] == 'EF1'].shape[0]\n",
    "    EF1.append(count)\n",
    "    \n",
    "    count = tornado_slice[tornado_slice['State'] == e]\n",
    "    count = count[count['EF#'] == 'EF2'].shape[0]\n",
    "    EF2.append(count)\n",
    "    \n",
    "    count = tornado_slice[tornado_slice['State'] == e]\n",
    "    count = count[count['EF#'] == 'EF3'].shape[0]\n",
    "    EF3.append(count)\n",
    "    \n",
    "    count = tornado_slice[tornado_slice['State'] == e]\n",
    "    count = count[count['EF#'] == 'EF4'].shape[0]\n",
    "    EF4.append(count)\n",
    "\n",
    "# create plot\n",
    "\n",
    "barWidth = 0.15\n",
    "\n",
    "r1 = np.arange(len(EF0))\n",
    "r2 = [x + barWidth for x in r1]\n",
    "r3 = [x + barWidth for x in r2]\n",
    "r4 = [x + barWidth for x in r3]\n",
    "r5 = [x + barWidth for x in r4]\n",
    "\n",
    "plt.bar(r1, EF0, width=barWidth, edgecolor='white', label='EF0')\n",
    "plt.bar(r2, EF1, width=barWidth, edgecolor='white', label='EF1')\n",
    "plt.bar(r3, EF2, width=barWidth, edgecolor='white', label='EF2')\n",
    "plt.bar(r4, EF3, width=barWidth, edgecolor='white', label='EF3')\n",
    "plt.bar(r5, EF4, width=barWidth, edgecolor='white', label='EF4')\n",
    "\n",
    "plt.xlabel('State', fontweight='bold')\n",
    "plt.ylabel('# of Tornados', fontweight='bold')\n",
    "plt.xticks([r + barWidth for r in range(len(EF0))], states)\n",
    "\n",
    "plt.rcParams['figure.figsize'] = (10,6)\n",
    "\n",
    "plt.legend()\n",
    "plt.show()\n",
    "    "
   ]
  },
  {
   "cell_type": "markdown",
   "metadata": {},
   "source": [
    "Interestingly, it looks like OK had twice as many EF1 tornados than any other state, yet had roughly comparable numbers of other tornado strengths.\n",
    "\n",
    "Texas had an interestingly even distribution of EF0-3 tornados. This is not typical, with the large majority of tornados being EF1 or less."
   ]
  },
  {
   "cell_type": "markdown",
   "metadata": {},
   "source": [
    "Let's answer two more interesting questions: whether path length and width are related or path length and EF rating are related."
   ]
  },
  {
   "cell_type": "code",
   "execution_count": 233,
   "metadata": {},
   "outputs": [
    {
     "data": {
      "text/plain": [
       "0.36404765338820955"
      ]
     },
     "execution_count": 233,
     "metadata": {},
     "output_type": "execute_result"
    }
   ],
   "source": [
    "# need to remove one row where the max width is [to be determined]. had to get a bit hacky to escape [ ]\n",
    "tornado_data['Max width'] = tornado_data['Max width'].str.replace(r'.*to.*','0')\n",
    "tornado_data = tornado_data[tornado_data['Max width'] != '0'] \n",
    "tornado_data['Path length'] = tornado_data['Path length'].astype(float)\n",
    "tornado_data['Max width'] = tornado_data['Max width'].astype(float)\n",
    "tornado_data = tornado_data.sort_values(by=['Path length'], ascending=False)\n",
    "\n",
    "\n",
    "x = tornado_data.iloc[:, 2].values.reshape(-1, 1)\n",
    "y = tornado_data.iloc[:, 3].values.reshape(-1, 1)\n",
    "\n",
    "lr = LinearRegression()\n",
    "lr.fit(x, y)\n",
    "y_pred = lr.predict(x)\n",
    "#tornado_data.head(100)\n",
    "lr.score(x, y)"
   ]
  },
  {
   "cell_type": "code",
   "execution_count": 234,
   "metadata": {},
   "outputs": [
    {
     "name": "stderr",
     "output_type": "stream",
     "text": [
      "c:\\programs\\python\\lib\\site-packages\\ipykernel_launcher.py:2: MatplotlibDeprecationWarning: Adding an axes using the same arguments as a previous axes currently reuses the earlier instance.  In a future version, a new instance will always be created and returned.  Meanwhile, this warning can be suppressed, and the future behavior ensured, by passing a unique label to each axes instance.\n",
      "  \n"
     ]
    },
    {
     "data": {
      "image/png": "[encoded data removed]",
      "text/plain": [
       "<Figure size 720x432 with 1 Axes>"
      ]
     },
     "metadata": {
      "needs_background": "light"
     },
     "output_type": "display_data"
    }
   ],
   "source": [
    "plt.scatter(x.ravel().tolist(), y.ravel().tolist())\n",
    "ax = plt.axes()\n",
    "ax.set_xlim([0,55])\n",
    "ax.xaxis.set_ticks(np.arange(0,55,5))\n",
    "ax.set_xlabel('Path Length (km)')\n",
    "ax.set_ylabel('Max Tornado Width (m)')\n",
    "plt.plot(x.ravel().tolist(), y_pred, color='red')\n",
    "plt.show()"
   ]
  },
  {
   "cell_type": "markdown",
   "metadata": {},
   "source": [
    "The r-squared value from this dataset is quite low, only about 0.364."
   ]
  },
  {
   "cell_type": "markdown",
   "metadata": {},
   "source": [
    "Another question that can be answered is whether or not path length and width are correlated to the strength of a tornado. We can analyze this fairly easily by grouping rows by EF rating and taking the means of the path length and max width columns."
   ]
  },
  {
   "cell_type": "code",
   "execution_count": 235,
   "metadata": {},
   "outputs": [],
   "source": [
    "tornado_data = tornado_data.drop(['State'], axis=1)\n",
    "tornado_data = tornado_data.groupby(['EF#']).mean()"
   ]
  },
  {
   "cell_type": "code",
   "execution_count": 241,
   "metadata": {},
   "outputs": [
    {
     "data": {
      "image/png": "[encoded data removed]",
      "text/plain": [
       "<Figure size 720x432 with 1 Axes>"
      ]
     },
     "metadata": {
      "needs_background": "light"
     },
     "output_type": "display_data"
    }
   ],
   "source": [
    "# create a plot to show results\n",
    "\n",
    "EF = ['EF0', 'EF1', 'EF2', 'EF3', 'EF4']\n",
    "\n",
    "barWidth = 0.25\n",
    "\n",
    "r1 = np.arange(tornado_data.shape[0])\n",
    "\n",
    "plt.bar(r1, tornado_data['Path length'], width=barWidth, edgecolor='white')\n",
    "\n",
    "plt.xlabel('EF Rating')\n",
    "plt.ylabel('Average Path Length (km)')\n",
    "plt.xticks([r for r in range(tornado_data.shape[0])], EF)\n",
    "plt.title('Mean Path Length by Tornado Strength')\n",
    "plt.show()\n"
   ]
  },
  {
   "cell_type": "code",
   "execution_count": 240,
   "metadata": {},
   "outputs": [
    {
     "data": {
      "image/png": "[encoded data removed]",
      "text/plain": [
       "<Figure size 720x432 with 1 Axes>"
      ]
     },
     "metadata": {
      "needs_background": "light"
     },
     "output_type": "display_data"
    }
   ],
   "source": [
    "EF = ['EF0', 'EF1', 'EF2', 'EF3', 'EF4']\n",
    "\n",
    "barWidth = 0.25\n",
    "\n",
    "r1 = np.arange(tornado_data.shape[0])\n",
    "\n",
    "plt.bar(r1, tornado_data['Max width'], width=barWidth, edgecolor='white')\n",
    "\n",
    "plt.xlabel('EF Rating')\n",
    "plt.ylabel('Average Maximum Tornado Width (m)')\n",
    "plt.xticks([r for r in range(tornado_data.shape[0])], EF)\n",
    "plt.title('Mean Maximum Width by Tornado Strength')\n",
    "plt.show()\n"
   ]
  },
  {
   "cell_type": "markdown",
   "metadata": {},
   "source": [
    "From the graphs, it is clear that maximum tornado width and path length are both positively correlated with tornado strength. This is not altogether surprising for path length. A longer path length means more time for the tornado to increase in strength. Meanwhile larger maximum width indicates a larger wind field, which suggests higher winds but does not necessarily require it, so this is an interesting result.\n",
    "\n",
    "This allows us to reach the conclusion that if a tornado starts wide, it is more likely to become EF2+. Tornados do not need to start wide though, and this is where path length comes in. Just as a longer path length corresponds to more time for the tornado to organize, longer path length also corresponds to more time for the tornado to increase in width. So it is not a surprise that EF rating and maximum tornado with are postively correlated.\n",
    "\n",
    "However, it is important to keep in mind that the sample size for progessively higher EF ratings dwindles, with a particularly small sample size of 2 for EF4. A larger sample size would help confirm these findings."
   ]
  }
 ],
 "metadata": {
  "kernelspec": {
   "display_name": "Python 3",
   "language": "python",
   "name": "python3"
  },
  "language_info": {
   "codemirror_mode": {
    "name": "ipython",
    "version": 3
   },
   "file_extension": ".py",
   "mimetype": "text/x-python",
   "name": "python",
   "nbconvert_exporter": "python",
   "pygments_lexer": "ipython3",
   "version": "3.7.3"
  }
 },
 "nbformat": 4,
 "nbformat_minor": 2
}
