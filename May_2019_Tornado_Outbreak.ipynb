{
 "cells": [
  {
   "cell_type": "markdown",
   "metadata": {},
   "source": [
    "May 2019 outbreak"
   ]
  },
  {
   "cell_type": "code",
   "execution_count": 34,
   "metadata": {},
   "outputs": [],
   "source": [
    "import pandas as pd\n",
    "import matplotlib.pyplot as plt\n",
    "import re"
   ]
  },
  {
   "cell_type": "code",
   "execution_count": 35,
   "metadata": {},
   "outputs": [
    {
     "data": {
      "text/html": [
       "<div>\n",
       "<style scoped>\n",
       "    .dataframe tbody tr th:only-of-type {\n",
       "        vertical-align: middle;\n",
       "    }\n",
       "\n",
       "    .dataframe tbody tr th {\n",
       "        vertical-align: top;\n",
       "    }\n",
       "\n",
       "    .dataframe thead th {\n",
       "        text-align: right;\n",
       "    }\n",
       "</style>\n",
       "<table border=\"1\" class=\"dataframe\">\n",
       "  <thead>\n",
       "    <tr style=\"text-align: right;\">\n",
       "      <th></th>\n",
       "      <th>EF#</th>\n",
       "      <th>Location</th>\n",
       "      <th>County / Parish</th>\n",
       "      <th>State</th>\n",
       "      <th>Start Coord.</th>\n",
       "      <th>Time (UTC)</th>\n",
       "      <th>Path length</th>\n",
       "      <th>Max width</th>\n",
       "      <th>Summary</th>\n",
       "      <th>Refs</th>\n",
       "    </tr>\n",
       "  </thead>\n",
       "  <tbody>\n",
       "    <tr>\n",
       "      <th>0</th>\n",
       "      <td>EF0</td>\n",
       "      <td>E of Fort Stockton</td>\n",
       "      <td>Pecos</td>\n",
       "      <td>TX</td>\n",
       "      <td>30°49′44″N 102°33′32″W﻿ / ﻿30.829°N 102.559°W</td>\n",
       "      <td>21:43–21:55</td>\n",
       "      <td>2 mi (3.2 km)</td>\n",
       "      <td>NaN</td>\n",
       "      <td>Spotters and emergency management observed a t...</td>\n",
       "      <td>[1]</td>\n",
       "    </tr>\n",
       "    <tr>\n",
       "      <th>1</th>\n",
       "      <td>EF2</td>\n",
       "      <td>ESE of Culbertson to NW of McCook</td>\n",
       "      <td>Red Willow</td>\n",
       "      <td>NE</td>\n",
       "      <td>40°12′12″N 100°45′37″W﻿ / ﻿40.2034°N 100.7604°W</td>\n",
       "      <td>22:55–23:01</td>\n",
       "      <td>6 mi (9.7 km)</td>\n",
       "      <td>350 yd (320 m)</td>\n",
       "      <td>This strong tornado destroyed 6 grain bins, 5 ...</td>\n",
       "      <td>[2]</td>\n",
       "    </tr>\n",
       "    <tr>\n",
       "      <th>2</th>\n",
       "      <td>EF0</td>\n",
       "      <td>SW of Stockville</td>\n",
       "      <td>Frontier</td>\n",
       "      <td>NE</td>\n",
       "      <td>NaN</td>\n",
       "      <td>23:32–23:33</td>\n",
       "      <td>0.1 mi (0.16 km)</td>\n",
       "      <td>20 yd (18 m)</td>\n",
       "      <td>A tornado briefly touched down. No damage occu...</td>\n",
       "      <td>[3]</td>\n",
       "    </tr>\n",
       "    <tr>\n",
       "      <th>3</th>\n",
       "      <td>EF0</td>\n",
       "      <td>Northwestern Stockville</td>\n",
       "      <td>Frontier</td>\n",
       "      <td>NE</td>\n",
       "      <td>NaN</td>\n",
       "      <td>23:45–23:46</td>\n",
       "      <td>0.1 mi (0.16 km)</td>\n",
       "      <td>50 yd (46 m)</td>\n",
       "      <td>A tornado briefly touched down in a field at t...</td>\n",
       "      <td>[3]</td>\n",
       "    </tr>\n",
       "    <tr>\n",
       "      <th>4</th>\n",
       "      <td>EF0</td>\n",
       "      <td>NE of Stockville</td>\n",
       "      <td>Frontier</td>\n",
       "      <td>NE</td>\n",
       "      <td>40°34′N 100°20′W﻿ / ﻿40.56°N 100.34°W</td>\n",
       "      <td>23:55–23:56</td>\n",
       "      <td>0.5 mi (0.80 km)</td>\n",
       "      <td>315 yd (288 m)</td>\n",
       "      <td>Several 1,400 lb (640 kg) hay bales were moved...</td>\n",
       "      <td>[3]</td>\n",
       "    </tr>\n",
       "  </tbody>\n",
       "</table>\n",
       "</div>"
      ],
      "text/plain": [
       "   EF#                           Location County / Parish State  \\\n",
       "0  EF0                 E of Fort Stockton           Pecos    TX   \n",
       "1  EF2  ESE of Culbertson to NW of McCook      Red Willow    NE   \n",
       "2  EF0                   SW of Stockville        Frontier    NE   \n",
       "3  EF0            Northwestern Stockville        Frontier    NE   \n",
       "4  EF0                   NE of Stockville        Frontier    NE   \n",
       "\n",
       "                                      Start Coord.   Time (UTC)  \\\n",
       "0    30°49′44″N 102°33′32″W﻿ / ﻿30.829°N 102.559°W  21:43–21:55   \n",
       "1  40°12′12″N 100°45′37″W﻿ / ﻿40.2034°N 100.7604°W  22:55–23:01   \n",
       "2                                              NaN  23:32–23:33   \n",
       "3                                              NaN  23:45–23:46   \n",
       "4            40°34′N 100°20′W﻿ / ﻿40.56°N 100.34°W  23:55–23:56   \n",
       "\n",
       "        Path length       Max width  \\\n",
       "0     2 mi (3.2 km)             NaN   \n",
       "1     6 mi (9.7 km)  350 yd (320 m)   \n",
       "2  0.1 mi (0.16 km)    20 yd (18 m)   \n",
       "3  0.1 mi (0.16 km)    50 yd (46 m)   \n",
       "4  0.5 mi (0.80 km)  315 yd (288 m)   \n",
       "\n",
       "                                             Summary Refs  \n",
       "0  Spotters and emergency management observed a t...  [1]  \n",
       "1  This strong tornado destroyed 6 grain bins, 5 ...  [2]  \n",
       "2  A tornado briefly touched down. No damage occu...  [3]  \n",
       "3  A tornado briefly touched down in a field at t...  [3]  \n",
       "4  Several 1,400 lb (640 kg) hay bales were moved...  [3]  "
      ]
     },
     "execution_count": 35,
     "metadata": {},
     "output_type": "execute_result"
    }
   ],
   "source": [
    "tornado_data = pd.read_csv('may2019outbreak.csv')\n",
    "tornado_data.head()"
   ]
  },
  {
   "cell_type": "markdown",
   "metadata": {},
   "source": [
    "As can be seen, this dataset has 10 columns:\n",
    "\n",
    "EF#: The strength of the tornado, measured on the Enhance-Fujita scale."
   ]
  },
  {
   "cell_type": "code",
   "execution_count": 36,
   "metadata": {},
   "outputs": [
    {
     "data": {
      "text/html": [
       "<div>\n",
       "<style scoped>\n",
       "    .dataframe tbody tr th:only-of-type {\n",
       "        vertical-align: middle;\n",
       "    }\n",
       "\n",
       "    .dataframe tbody tr th {\n",
       "        vertical-align: top;\n",
       "    }\n",
       "\n",
       "    .dataframe thead th {\n",
       "        text-align: right;\n",
       "    }\n",
       "</style>\n",
       "<table border=\"1\" class=\"dataframe\">\n",
       "  <thead>\n",
       "    <tr style=\"text-align: right;\">\n",
       "      <th></th>\n",
       "      <th>EF#</th>\n",
       "      <th>State</th>\n",
       "      <th>Path length</th>\n",
       "      <th>Max width</th>\n",
       "    </tr>\n",
       "  </thead>\n",
       "  <tbody>\n",
       "    <tr>\n",
       "      <th>0</th>\n",
       "      <td>EF0</td>\n",
       "      <td>TX</td>\n",
       "      <td>2 mi (3.2 km)</td>\n",
       "      <td>NaN</td>\n",
       "    </tr>\n",
       "    <tr>\n",
       "      <th>1</th>\n",
       "      <td>EF2</td>\n",
       "      <td>NE</td>\n",
       "      <td>6 mi (9.7 km)</td>\n",
       "      <td>350 yd (320 m)</td>\n",
       "    </tr>\n",
       "    <tr>\n",
       "      <th>2</th>\n",
       "      <td>EF0</td>\n",
       "      <td>NE</td>\n",
       "      <td>0.1 mi (0.16 km)</td>\n",
       "      <td>20 yd (18 m)</td>\n",
       "    </tr>\n",
       "    <tr>\n",
       "      <th>3</th>\n",
       "      <td>EF0</td>\n",
       "      <td>NE</td>\n",
       "      <td>0.1 mi (0.16 km)</td>\n",
       "      <td>50 yd (46 m)</td>\n",
       "    </tr>\n",
       "    <tr>\n",
       "      <th>4</th>\n",
       "      <td>EF0</td>\n",
       "      <td>NE</td>\n",
       "      <td>0.5 mi (0.80 km)</td>\n",
       "      <td>315 yd (288 m)</td>\n",
       "    </tr>\n",
       "  </tbody>\n",
       "</table>\n",
       "</div>"
      ],
      "text/plain": [
       "   EF# State       Path length       Max width\n",
       "0  EF0    TX     2 mi (3.2 km)             NaN\n",
       "1  EF2    NE     6 mi (9.7 km)  350 yd (320 m)\n",
       "2  EF0    NE  0.1 mi (0.16 km)    20 yd (18 m)\n",
       "3  EF0    NE  0.1 mi (0.16 km)    50 yd (46 m)\n",
       "4  EF0    NE  0.5 mi (0.80 km)  315 yd (288 m)"
      ]
     },
     "execution_count": 36,
     "metadata": {},
     "output_type": "execute_result"
    }
   ],
   "source": [
    "# Here I'll start with a breakdown of tornados first grouped by state then by EF rating. Then I can think of two useful questions:\n",
    "# if width is correlated to path length and if EF is correlated to path length / width\n",
    "\n",
    "cols = ['EF#', 'State', 'Path length', 'Max width']\n",
    "\n",
    "tornado_data = tornado_data[cols]\n",
    "tornado_data.head()"
   ]
  },
  {
   "cell_type": "markdown",
   "metadata": {},
   "source": [
    "Two columns are not yet in a useful state for analysis: Path length and Max width. We can use the regular expressions (re) library to cut the data down to just SI units. We will also takes this time to remove any rows with incomplete information."
   ]
  },
  {
   "cell_type": "code",
   "execution_count": 37,
   "metadata": {},
   "outputs": [
    {
     "data": {
      "text/plain": [
       "(255, 4)"
      ]
     },
     "execution_count": 37,
     "metadata": {},
     "output_type": "execute_result"
    }
   ],
   "source": [
    "tornado_data['Path length'] = tornado_data['Path length'].str.replace(r'.*\\(','')\n",
    "tornado_data['Path length'] = tornado_data['Path length'].str.replace(r'\\s.*','')\n",
    "\n",
    "tornado_data['Max width'] = tornado_data['Max width'].str.replace(r'.*\\(','')\n",
    "tornado_data['Max width'] = tornado_data['Max width'].str.replace(r'\\s.*','')\n",
    "\n",
    "tornado_data = tornado_data.dropna() # drop NaN elements\n",
    "\n",
    "tornado_data.shape\n"
   ]
  },
  {
   "cell_type": "code",
   "execution_count": 38,
   "metadata": {},
   "outputs": [
    {
     "data": {
      "text/html": [
       "<div>\n",
       "<style scoped>\n",
       "    .dataframe tbody tr th:only-of-type {\n",
       "        vertical-align: middle;\n",
       "    }\n",
       "\n",
       "    .dataframe tbody tr th {\n",
       "        vertical-align: top;\n",
       "    }\n",
       "\n",
       "    .dataframe thead th {\n",
       "        text-align: right;\n",
       "    }\n",
       "</style>\n",
       "<table border=\"1\" class=\"dataframe\">\n",
       "  <thead>\n",
       "    <tr style=\"text-align: right;\">\n",
       "      <th></th>\n",
       "      <th>EF#</th>\n",
       "      <th>State</th>\n",
       "      <th>Path length</th>\n",
       "      <th>Max width</th>\n",
       "    </tr>\n",
       "  </thead>\n",
       "  <tbody>\n",
       "    <tr>\n",
       "      <th>1</th>\n",
       "      <td>EF2</td>\n",
       "      <td>NE</td>\n",
       "      <td>9.7</td>\n",
       "      <td>320</td>\n",
       "    </tr>\n",
       "    <tr>\n",
       "      <th>2</th>\n",
       "      <td>EF0</td>\n",
       "      <td>NE</td>\n",
       "      <td>0.16</td>\n",
       "      <td>18</td>\n",
       "    </tr>\n",
       "    <tr>\n",
       "      <th>3</th>\n",
       "      <td>EF0</td>\n",
       "      <td>NE</td>\n",
       "      <td>0.16</td>\n",
       "      <td>46</td>\n",
       "    </tr>\n",
       "    <tr>\n",
       "      <th>4</th>\n",
       "      <td>EF0</td>\n",
       "      <td>NE</td>\n",
       "      <td>0.80</td>\n",
       "      <td>288</td>\n",
       "    </tr>\n",
       "    <tr>\n",
       "      <th>5</th>\n",
       "      <td>EF2</td>\n",
       "      <td>NE</td>\n",
       "      <td>0.90</td>\n",
       "      <td>163</td>\n",
       "    </tr>\n",
       "  </tbody>\n",
       "</table>\n",
       "</div>"
      ],
      "text/plain": [
       "   EF# State Path length Max width\n",
       "1  EF2    NE         9.7       320\n",
       "2  EF0    NE        0.16        18\n",
       "3  EF0    NE        0.16        46\n",
       "4  EF0    NE        0.80       288\n",
       "5  EF2    NE        0.90       163"
      ]
     },
     "execution_count": 38,
     "metadata": {},
     "output_type": "execute_result"
    }
   ],
   "source": [
    "tornado_data.head()"
   ]
  },
  {
   "cell_type": "code",
   "execution_count": null,
   "metadata": {},
   "outputs": [],
   "source": []
  }
 ],
 "metadata": {
  "kernelspec": {
   "display_name": "Python 3",
   "language": "python",
   "name": "python3"
  },
  "language_info": {
   "codemirror_mode": {
    "name": "ipython",
    "version": 3
   },
   "file_extension": ".py",
   "mimetype": "text/x-python",
   "name": "python",
   "nbconvert_exporter": "python",
   "pygments_lexer": "ipython3",
   "version": "3.7.3"
  }
 },
 "nbformat": 4,
 "nbformat_minor": 2
}
